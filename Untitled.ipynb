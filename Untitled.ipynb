{
 "cells": [
  {
   "cell_type": "code",
   "execution_count": 1,
   "id": "836d1351",
   "metadata": {},
   "outputs": [],
   "source": [
    "#importing all relevant modules and libraries\n",
    "%matplotlib inline\n",
    "import numpy as np\n",
    "import pandas as pd\n",
    "import matplotlib as mpl\n",
    "import matplotlib.pyplot as plt"
   ]
  },
  {
   "cell_type": "code",
   "execution_count": 19,
   "id": "e840ce97",
   "metadata": {},
   "outputs": [
    {
     "name": "stdout",
     "output_type": "stream",
     "text": [
      "['Nov 2021', 'Dec 2021', 'Jan 2022', 'Feb 2022']\n"
     ]
    }
   ],
   "source": [
    "monthlyTracker_df = pd.read_excel(\n",
    "            './expenditures.xlsx',\n",
    "            sheet_name='monthlyBill',\n",
    "            index_col=0,\n",
    "            )\n",
    "\n",
    "monthDictionary = {\"1\": \"Jan\", \"2\": \"Feb\", \"3\": \"Mar\", \"4\": \"Apr\", \"5\": \"May\", \"6\": \"Jun\", \"7\": \"Jul\", \"8\": \"Aug\", \"9\": \"Sep\", \"10\": \"Oct\", \"11\": \"Nov\", \"12\": \"Dec\"}\n",
    "dates = []\n",
    "pos = len(dates)\n",
    "for fullDate in monthlyTracker_df.columns:\n",
    "    month = monthDictionary[str(fullDate.month)]\n",
    "    year = str(fullDate.year)\n",
    "    dateAdjusted = month + \" \" + year\n",
    "    dates.insert(pos, dateAdjusted)\n",
    "    pos = pos + 1\n",
    "    \n",
    "print(dates)"
   ]
  },
  {
   "cell_type": "code",
   "execution_count": 20,
   "id": "d84ddf5c",
   "metadata": {},
   "outputs": [
    {
     "data": {
      "text/html": [
       "<div>\n",
       "<style scoped>\n",
       "    .dataframe tbody tr th:only-of-type {\n",
       "        vertical-align: middle;\n",
       "    }\n",
       "\n",
       "    .dataframe tbody tr th {\n",
       "        vertical-align: top;\n",
       "    }\n",
       "\n",
       "    .dataframe thead th {\n",
       "        text-align: right;\n",
       "    }\n",
       "</style>\n",
       "<table border=\"1\" class=\"dataframe\">\n",
       "  <thead>\n",
       "    <tr style=\"text-align: right;\">\n",
       "      <th></th>\n",
       "      <th>2021-11-01</th>\n",
       "      <th>2021-12-01</th>\n",
       "      <th>2022-01-01</th>\n",
       "      <th>2022-02-01</th>\n",
       "    </tr>\n",
       "    <tr>\n",
       "      <th>Bill</th>\n",
       "      <th></th>\n",
       "      <th></th>\n",
       "      <th></th>\n",
       "      <th></th>\n",
       "    </tr>\n",
       "  </thead>\n",
       "  <tbody>\n",
       "    <tr>\n",
       "      <th>Food</th>\n",
       "      <td>80</td>\n",
       "      <td>120</td>\n",
       "      <td>87</td>\n",
       "      <td>75</td>\n",
       "    </tr>\n",
       "    <tr>\n",
       "      <th>Housing</th>\n",
       "      <td>795</td>\n",
       "      <td>795</td>\n",
       "      <td>795</td>\n",
       "      <td>795</td>\n",
       "    </tr>\n",
       "    <tr>\n",
       "      <th>Electricity</th>\n",
       "      <td>250</td>\n",
       "      <td>350</td>\n",
       "      <td>275</td>\n",
       "      <td>255</td>\n",
       "    </tr>\n",
       "    <tr>\n",
       "      <th>Car</th>\n",
       "      <td>250</td>\n",
       "      <td>280</td>\n",
       "      <td>260</td>\n",
       "      <td>240</td>\n",
       "    </tr>\n",
       "    <tr>\n",
       "      <th>Water</th>\n",
       "      <td>75</td>\n",
       "      <td>75</td>\n",
       "      <td>75</td>\n",
       "      <td>75</td>\n",
       "    </tr>\n",
       "  </tbody>\n",
       "</table>\n",
       "</div>"
      ],
      "text/plain": [
       "             2021-11-01  2021-12-01  2022-01-01  2022-02-01\n",
       "Bill                                                       \n",
       "Food                 80         120          87          75\n",
       "Housing             795         795         795         795\n",
       "Electricity         250         350         275         255\n",
       "Car                 250         280         260         240\n",
       "Water                75          75          75          75"
      ]
     },
     "execution_count": 20,
     "metadata": {},
     "output_type": "execute_result"
    }
   ],
   "source": [
    "monthlyTracker_df.head() #display first 5 entries"
   ]
  },
  {
   "cell_type": "code",
   "execution_count": 22,
   "id": "2b7465e6",
   "metadata": {},
   "outputs": [
    {
     "data": {
      "text/html": [
       "<div>\n",
       "<style scoped>\n",
       "    .dataframe tbody tr th:only-of-type {\n",
       "        vertical-align: middle;\n",
       "    }\n",
       "\n",
       "    .dataframe tbody tr th {\n",
       "        vertical-align: top;\n",
       "    }\n",
       "\n",
       "    .dataframe thead th {\n",
       "        text-align: right;\n",
       "    }\n",
       "</style>\n",
       "<table border=\"1\" class=\"dataframe\">\n",
       "  <thead>\n",
       "    <tr style=\"text-align: right;\">\n",
       "      <th></th>\n",
       "      <th>Nov 2021</th>\n",
       "      <th>Dec 2021</th>\n",
       "      <th>Jan 2022</th>\n",
       "      <th>Feb 2022</th>\n",
       "    </tr>\n",
       "    <tr>\n",
       "      <th>Bill</th>\n",
       "      <th></th>\n",
       "      <th></th>\n",
       "      <th></th>\n",
       "      <th></th>\n",
       "    </tr>\n",
       "  </thead>\n",
       "  <tbody>\n",
       "    <tr>\n",
       "      <th>Food</th>\n",
       "      <td>80</td>\n",
       "      <td>120</td>\n",
       "      <td>87</td>\n",
       "      <td>75</td>\n",
       "    </tr>\n",
       "    <tr>\n",
       "      <th>Housing</th>\n",
       "      <td>795</td>\n",
       "      <td>795</td>\n",
       "      <td>795</td>\n",
       "      <td>795</td>\n",
       "    </tr>\n",
       "    <tr>\n",
       "      <th>Electricity</th>\n",
       "      <td>250</td>\n",
       "      <td>350</td>\n",
       "      <td>275</td>\n",
       "      <td>255</td>\n",
       "    </tr>\n",
       "    <tr>\n",
       "      <th>Car</th>\n",
       "      <td>250</td>\n",
       "      <td>280</td>\n",
       "      <td>260</td>\n",
       "      <td>240</td>\n",
       "    </tr>\n",
       "    <tr>\n",
       "      <th>Water</th>\n",
       "      <td>75</td>\n",
       "      <td>75</td>\n",
       "      <td>75</td>\n",
       "      <td>75</td>\n",
       "    </tr>\n",
       "  </tbody>\n",
       "</table>\n",
       "</div>"
      ],
      "text/plain": [
       "             Nov 2021  Dec 2021  Jan 2022  Feb 2022\n",
       "Bill                                               \n",
       "Food               80       120        87        75\n",
       "Housing           795       795       795       795\n",
       "Electricity       250       350       275       255\n",
       "Car               250       280       260       240\n",
       "Water              75        75        75        75"
      ]
     },
     "execution_count": 22,
     "metadata": {},
     "output_type": "execute_result"
    }
   ],
   "source": [
    "#rename columns to relevant names\n",
    "monthlyTracker_df.columns= dates\n",
    "\n",
    "#loop for accessing indexes and inputting into array for future uses\n",
    "categories=[]\n",
    "y=0\n",
    "for x in monthlyTracker_df.index:\n",
    "    categories.append(monthlyTracker_df.index[y])\n",
    "    y = y+1\n",
    "    \n",
    "monthlyTracker_df.head() #display first 5 entries"
   ]
  },
  {
   "cell_type": "code",
   "execution_count": 24,
   "id": "9b0a264a",
   "metadata": {},
   "outputs": [
    {
     "data": {
      "image/png": "[encoded data removed]",
      "text/plain": [
       "<Figure size 504x504 with 1 Axes>"
      ]
     },
     "metadata": {},
     "output_type": "display_data"
    },
    {
     "name": "stdout",
     "output_type": "stream",
     "text": [
      "In November your total spendings was: £1574\n"
     ]
    }
   ],
   "source": [
    "#loop for accessing all finances in November and converting into percentages\n",
    "y=0\n",
    "percentages = []\n",
    "for x in monthlyTracker_df['Nov 2021']:\n",
    "    sum = monthlyTracker_df['Nov 2021'][y]\n",
    "    sum = (sum/monthlyTracker_df['Nov 2021'].sum())*100\n",
    "    percentages.append(sum)\n",
    "    y=y+1\n",
    "    \n",
    "#plot pie chart\n",
    "plt.figure(figsize=(7,7))\n",
    "plt.pie(percentages, labels=categories, autopct='%1.0f%%', shadow=True, startangle=70,)\n",
    "plt.legend(title='November 2021 Spendings')\n",
    "plt.show()\n",
    "\n",
    "total = monthlyTracker_df['Nov 2021'].sum()\n",
    "print(\"In November your total spendings was: £\" + str(total))"
   ]
  },
  {
   "cell_type": "code",
   "execution_count": null,
   "id": "a1593c1f",
   "metadata": {},
   "outputs": [],
   "source": []
  }
 ],
 "metadata": {
  "kernelspec": {
   "display_name": "Python 3 (ipykernel)",
   "language": "python",
   "name": "python3"
  },
  "language_info": {
   "codemirror_mode": {
    "name": "ipython",
    "version": 3
   },
   "file_extension": ".py",
   "mimetype": "text/x-python",
   "name": "python",
   "nbconvert_exporter": "python",
   "pygments_lexer": "ipython3",
   "version": "3.9.7"
  }
 },
 "nbformat": 4,
 "nbformat_minor": 5
}
